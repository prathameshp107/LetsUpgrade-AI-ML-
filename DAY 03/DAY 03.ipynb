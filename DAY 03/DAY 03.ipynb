{
 "cells": [
  {
   "cell_type": "markdown",
   "metadata": {},
   "source": [
    "### 1 write a program to subtract two complex numbers in python"
   ]
  },
  {
   "cell_type": "code",
   "execution_count": 1,
   "metadata": {},
   "outputs": [
    {
     "name": "stdout",
     "output_type": "stream",
     "text": [
      "Subtraction is :  (2+1j)\n"
     ]
    }
   ],
   "source": [
    "def subComplex( a, b): \n",
    "\n",
    "    return a-b \n",
    "a = complex(3, 4) \n",
    "b = complex(1, 3) \n",
    "\n",
    "print( \"Subtraction is : \", subComplex(a, b))"
   ]
  },
  {
   "cell_type": "markdown",
   "metadata": {},
   "source": [
    "### 2 write program to find fourth root of number"
   ]
  },
  {
   "cell_type": "code",
   "execution_count": 2,
   "metadata": {},
   "outputs": [
    {
     "name": "stdout",
     "output_type": "stream",
     "text": [
      "the fourth root is 4.0\n"
     ]
    }
   ],
   "source": [
    "x=256\n",
    "a=x**(1/4.0)\n",
    "print(\"the fourth root is\",a)\n"
   ]
  },
  {
   "cell_type": "markdown",
   "metadata": {},
   "source": [
    "### 3 write to program to swap two number in python using temp variable"
   ]
  },
  {
   "cell_type": "code",
   "execution_count": 3,
   "metadata": {},
   "outputs": [
    {
     "name": "stdout",
     "output_type": "stream",
     "text": [
      "The value of x after swapping: 10\n",
      "The value of y after swapping: 5\n"
     ]
    }
   ],
   "source": [
    "x = 5\n",
    "y = 10\n",
    "temp = x\n",
    "x = y\n",
    "y = temp\n",
    "\n",
    "print('The value of x after swapping: {}'.format(x))\n",
    "print('The value of y after swapping: {}'.format(y))"
   ]
  },
  {
   "cell_type": "markdown",
   "metadata": {},
   "source": [
    "### 4  write to program to swap two number in python without using temp variable"
   ]
  },
  {
   "cell_type": "code",
   "execution_count": 4,
   "metadata": {},
   "outputs": [
    {
     "name": "stdout",
     "output_type": "stream",
     "text": [
      "Enter value of first variable: 45\n",
      "Enter value of second variable: 99\n",
      "a is: 99  b is: 45\n"
     ]
    }
   ],
   "source": [
    "a=int(input(\"Enter value of first variable: \"))\n",
    "b=int(input(\"Enter value of second variable: \"))\n",
    "a=a+b\n",
    "b=a-b\n",
    "a=a-b\n",
    "print(\"a is:\",a,\" b is:\",b)\n"
   ]
  },
  {
   "cell_type": "markdown",
   "metadata": {},
   "source": [
    "### 5 write program to convert farheniet to kelvin and celsius both."
   ]
  },
  {
   "cell_type": "code",
   "execution_count": 5,
   "metadata": {},
   "outputs": [
    {
     "name": "stdout",
     "output_type": "stream",
     "text": [
      "Please enter temperature in fahrenheit:200\n",
      "Temperature fahrenheit to  Kelvin ( K ) = 366.833\n",
      "Temperature farhrenheit in celsius:  93.33333333333333\n"
     ]
    }
   ],
   "source": [
    "def Fahrenheit_to_Kelvin(F): \n",
    "\n",
    "    return 273.5 + ((F - 32.0) * (5.0/9.0)) \n",
    "\n",
    "F = float(input(\"Please enter temperature in fahrenheit:\"))\n",
    "\n",
    "print(\"Temperature fahrenheit to  Kelvin ( K ) = {:.3f}\" \n",
    "\n",
    "            .format(Fahrenheit_to_Kelvin( F ))) \n",
    "\n",
    "\n",
    "celsius = (F- 32) * 5 / 9\n",
    "print(\"Temperature farhrenheit in celsius: \" , celsius)\n"
   ]
  },
  {
   "cell_type": "markdown",
   "metadata": {},
   "source": [
    "### 6 write python program to demonstrate all data type"
   ]
  },
  {
   "cell_type": "markdown",
   "metadata": {},
   "source": [
    "a = 5\n",
    "print(a, \"is of type\", type(a))\n",
    "\n",
    "a = 2.0\n",
    "print(a, \"is of type\", type(a))\n",
    "\n",
    "a = 1+2j\n",
    "print(a, \"is complex number?\", isinstance(1+2j,complex))\n",
    "\n",
    "a='prathamesh'\n",
    "print(a, \"is of type\", type(a))\n",
    "\n",
    "a=[1,2,3]\n",
    "print(a, \"is of type\", type(a))\n",
    "\n",
    "a=(1,2,3)\n",
    "print(a, \"is of type\", type(a))\n",
    "\n",
    "a={1:\"one\", 2:\"two\",3:\"three\"}\n",
    "print(a, \"is of type\", type(a))\n",
    "\n",
    "a= {6,5,'a'}\n",
    "print(a, \"is of type\", type(a))\n"
   ]
  },
  {
   "cell_type": "markdown",
   "metadata": {},
   "source": [
    "### 7 step to create github profile"
   ]
  },
  {
   "cell_type": "markdown",
   "metadata": {},
   "source": [
    "1Signup to create a Github profile if you are new to Github else sign through your credentials\n",
    "2Follow the path Profile -> Your resipositories -> Click on 'Create Resipository'-> Name the resipository as 'LetsUpgrade-AI-ML' -> Description as 'Assignments'-> Make it as 'Public'-> click on 'Create Resipository' # Steps to upload Github Assignment Link\n",
    "3Upload the files/solution in the repo in day wise manner.\n",
    "4Copy the URL of the Folder of that day and paste in the Assignment Submission Form (Google Form)\n",
    "5Make sure you are filling correct details in the Assignment Submission Form.\n",
    "\n"
   ]
  }
 ],
 "metadata": {
  "kernelspec": {
   "display_name": "Python 3",
   "language": "python",
   "name": "python3"
  },
  "language_info": {
   "codemirror_mode": {
    "name": "ipython",
    "version": 3
   },
   "file_extension": ".py",
   "mimetype": "text/x-python",
   "name": "python",
   "nbconvert_exporter": "python",
   "pygments_lexer": "ipython3",
   "version": "3.7.6"
  }
 },
 "nbformat": 4,
 "nbformat_minor": 4
}
