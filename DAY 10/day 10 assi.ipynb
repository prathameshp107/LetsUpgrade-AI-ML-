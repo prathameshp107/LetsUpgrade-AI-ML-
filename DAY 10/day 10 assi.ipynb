{
 "cells": [
  {
   "cell_type": "markdown",
   "metadata": {},
   "source": [
    "#### Points to be noted:\n",
    "\n",
    "1) The results obtained in hypothesis testing may vary with change in sample size.\n",
    "\n",
    "2) Very large number of different hypothesis are possible ,here 10 such hypothesis are proposed.\n",
    "\n",
    "3) A sample of 101 records have been taken and the hypothesis is accepted(true) or rejected(false) only by comparing the calculated t value from the t value obtained from the attached table.\n",
    "\n",
    "4) Since I have used sample() function which when executed every time loads new samples so results may vary if you try to execute them again but for the current execution the results obtained are absolutely correct.\n",
    "\n",
    "Hypothesis statements are as follows:"
   ]
  },
  {
   "cell_type": "markdown",
   "metadata": {},
   "source": [
    "#### Statement 1: Most of the people leaving the company have an average age of 36 years."
   ]
  },
  {
   "cell_type": "code",
   "execution_count": 1,
   "metadata": {},
   "outputs": [],
   "source": [
    "import pandas as pd\n",
    "dataset=pd.read_csv(\"general_data.csv\")\n"
   ]
  },
  {
   "cell_type": "code",
   "execution_count": 2,
   "metadata": {},
   "outputs": [
    {
     "name": "stdout",
     "output_type": "stream",
     "text": [
      "sigma 9.675693299564738\n",
      "Population mean 36\n",
      "Sample mean 32.118811881188115\n",
      "t -4.031282994262155\n"
     ]
    }
   ],
   "source": [
    "dataset1=dataset[dataset[\"Attrition\"]==\"Yes\"] #only loads those records into dataset1 for which attrition is YES\n",
    "dataset2=dataset[dataset[\"Attrition\"]==\"No\"] #only loads those records into dataset1 for which attrition is YES\n",
    "n=101 #sample size\n",
    "sigma=dataset1[\"Age\"].std() #population standard deviation\n",
    "pop_mean=36 #population mean\n",
    "sample1=dataset1.sample(n) #select 101 random samples for which Attrition is YES\n",
    "sam_mean=sample1[\"Age\"].mean() #sample mean \n",
    "t_stat=(sam_mean-pop_mean)/(sigma/(n**0.5)) #t(calculated)\n",
    "print(\"sigma\",sigma)\n",
    "print(\"Population mean\",pop_mean)\n",
    "print(\"Sample mean\",sam_mean)\n",
    "print(\"t\",t_stat)\n"
   ]
  },
  {
   "cell_type": "markdown",
   "metadata": {},
   "source": [
    "#### Conclusion"
   ]
  },
  {
   "cell_type": "markdown",
   "metadata": {},
   "source": [
    "##### DOF=no. of rows- no. of columns=101-1=100\n",
    "\n",
    "Using above table for two tail test and seeing the corresponding DOF(100) and significance level(0.05) cell the value of t=1.984.\n",
    "\n",
    "The calculated value of t=-1.82 lies inside the range -1.984 to +1.984 so assumed hypothesis is true."
   ]
  },
  {
   "cell_type": "markdown",
   "metadata": {},
   "source": [
    "### Statement 2: Most of the people leaving the company have average monthly salary of 65,000"
   ]
  },
  {
   "cell_type": "code",
   "execution_count": 4,
   "metadata": {},
   "outputs": [
    {
     "name": "stdout",
     "output_type": "stream",
     "text": [
      "sigma= 44792.06769460413\n",
      "Population mean= 65000\n",
      "Sample mean= 69208.31683168317\n",
      "t= 0.9442087161736508\n"
     ]
    }
   ],
   "source": [
    "sigma1=dataset1[\"MonthlyIncome\"].std() #population standard deviation\n",
    "pop_mean1=65000 #population mean\n",
    "sample2=dataset1.sample(n) #select 101 random samples for which Attrition is YES\n",
    "sam_mean1=sample2[\"MonthlyIncome\"].mean() #sample mean\n",
    "t_stat1=(sam_mean1-pop_mean1)/(sigma1/(n**0.5)) #t(calculated)\n",
    "print(\"sigma=\",sigma1)\n",
    "print(\"Population mean=\",pop_mean1)\n",
    "print(\"Sample mean=\",sam_mean1)\n",
    "print(\"t=\",t_stat1)"
   ]
  },
  {
   "cell_type": "markdown",
   "metadata": {},
   "source": [
    "#### Conclusion\n",
    "\n",
    "DOF=no. of rows- no. of columns=101-1=100\n",
    "\n",
    "Using above table for two tail test and seeing the corresponding DOF(100) and significance level(0.05) cell the value of t=1.984.\n",
    "\n",
    "The calculated value of t=-2.96 lies outside the range -1.984 to +1.984 so assumed hypothesis is false.\n",
    "\n"
   ]
  },
  {
   "cell_type": "markdown",
   "metadata": {},
   "source": [
    "##### Statement 3: Most of the people leaving the company have average percentage salary hike of 20"
   ]
  },
  {
   "cell_type": "code",
   "execution_count": 5,
   "metadata": {},
   "outputs": [
    {
     "name": "stdout",
     "output_type": "stream",
     "text": [
      "sigma= 3.775289126300602\n",
      "Population mean= 20\n",
      "Sample mean= 15.108910891089108\n",
      "t= -13.020151716046234\n"
     ]
    }
   ],
   "source": [
    "sigma2=dataset1[\"PercentSalaryHike\"].std() #population standard deviation\n",
    "pop_mean2=20 #population mean\n",
    "sample3=dataset1.sample(n) #select 101 random samples for which Attrition is YES\n",
    "sam_mean2=sample3[\"PercentSalaryHike\"].mean() #sample mean\n",
    "t_stat2=(sam_mean2-pop_mean2)/(sigma2/(n**0.5)) #t(calculated)\n",
    "print(\"sigma=\",sigma2)\n",
    "print(\"Population mean=\",pop_mean2)\n",
    "print(\"Sample mean=\",sam_mean2)\n",
    "print(\"t=\",t_stat2)\n"
   ]
  },
  {
   "cell_type": "markdown",
   "metadata": {},
   "source": [
    "#### Conclusion\n",
    "\n",
    "DOF=no. of rows- no. of columns=101-1=100\n",
    "\n",
    "Using above table for two tail test and seeing the corresponding DOF(100) and significance level(0.05) cell the value of t=1.984.\n",
    "\n",
    "The calculated value of t=-12.07 lies ouside the range -1.984 to +1.984 so assumed hypothesis is false.\n",
    "\n"
   ]
  },
  {
   "cell_type": "markdown",
   "metadata": {},
   "source": [
    "#### Statement 4: Most of the people staying in the company have average work experience of 10 years"
   ]
  },
  {
   "cell_type": "code",
   "execution_count": 6,
   "metadata": {},
   "outputs": [
    {
     "name": "stdout",
     "output_type": "stream",
     "text": [
      "sigma= 7.762535696001822\n",
      "Population mean= 10\n",
      "Sample mean= 12.732673267326733\n",
      "t= 3.5378937405648045\n"
     ]
    }
   ],
   "source": [
    "sigma3=dataset2[\"TotalWorkingYears\"].std() #population standard deviation\n",
    "pop_mean3=10 #population mean\n",
    "sample4=dataset2.sample(n) #select 101 random samples for which Attrition is NO\n",
    "sam_mean3=sample4[\"TotalWorkingYears\"].mean() #sample mean \n",
    "t_stat3=(sam_mean3-pop_mean3)/(sigma3/(n**0.5)) #t(calculated)\n",
    "print(\"sigma=\",sigma3)\n",
    "print(\"Population mean=\",pop_mean3)\n",
    "print(\"Sample mean=\",sam_mean3)\n",
    "print(\"t=\",t_stat3)"
   ]
  },
  {
   "cell_type": "markdown",
   "metadata": {},
   "source": [
    "#### Conclusion\n",
    "\n",
    "DOF=no. of rows- no. of columns=101-1=100\n",
    "\n",
    "Using above table for two tail test and seeing the corresponding DOF(100) and significance level(0.05) cell the value of t=1.984.\n",
    "\n",
    "The calculated value of t=1.64 lies inside the range -1.984 to +1.984 so assumed hypothesis is true.                                                "
   ]
  },
  {
   "cell_type": "markdown",
   "metadata": {},
   "source": [
    "#### Statement 5: Most of the people staying in the company have a 5 KM distance from home"
   ]
  },
  {
   "cell_type": "code",
   "execution_count": 7,
   "metadata": {},
   "outputs": [
    {
     "name": "stdout",
     "output_type": "stream",
     "text": [
      "sigma= 8.167977642775147\n",
      "Population mean= 5\n",
      "Sample mean= 9.237623762376238\n",
      "t= 5.21397016538821\n"
     ]
    }
   ],
   "source": [
    "sigma4=dataset2[\"DistanceFromHome\"].std() #population standard deviation\n",
    "pop_mean4=5 #population mean\n",
    "sample5=dataset2.sample(n) #select 101 random samples for which Attrition is NO\n",
    "sam_mean4=sample5[\"DistanceFromHome\"].mean() #sample mean\n",
    "t_stat4=(sam_mean4-pop_mean4)/(sigma4/(n**0.5)) #t(calculated)\n",
    "print(\"sigma=\",sigma4)\n",
    "print(\"Population mean=\",pop_mean4)\n",
    "print(\"Sample mean=\",sam_mean4)\n",
    "print(\"t=\",t_stat4)"
   ]
  },
  {
   "cell_type": "markdown",
   "metadata": {},
   "source": [
    "#### Conclusion\n",
    "\n",
    "DOF=no. of rows- no. of columns=101-1=100\n",
    "\n",
    "Using above table for two tail test and seeing the corresponding DOF(100) and significance level(0.05) cell the value of t=1.984.\n",
    "\n",
    "The calculated value of t=4.77 lies outside the range -1.984 to +1.984 so assumed hypothesis is false."
   ]
  },
  {
   "cell_type": "markdown",
   "metadata": {},
   "source": [
    "#### Statement 6: Most of the people leaving the company have age less than equal to 30\n"
   ]
  },
  {
   "cell_type": "code",
   "execution_count": 8,
   "metadata": {},
   "outputs": [
    {
     "name": "stdout",
     "output_type": "stream",
     "text": [
      "sigma= 9.12086065072266\n",
      "Population mean= 30\n",
      "Sample mean= 33.0990099009901\n",
      "t= 3.414662853236882\n"
     ]
    }
   ],
   "source": [
    "pop_mean5=30 #population mean\n",
    "sample6=dataset1.sample(n) #101 records are loaded in sample 6 with Attriton as YES\n",
    "sigma5=sample6[\"Age\"].std() #sample standard deviation\n",
    "sam_mean5=sample6[\"Age\"].mean()#sample mean\n",
    "t_stat5=(sam_mean5-pop_mean5)/(sigma5/(n**0.5))#t(calculated)\n",
    "print(\"sigma=\",sigma5)\n",
    "print(\"Population mean=\",pop_mean5)\n",
    "print(\"Sample mean=\",sam_mean5)\n",
    "print(\"t=\",t_stat5)"
   ]
  },
  {
   "cell_type": "markdown",
   "metadata": {},
   "source": [
    "##### Conclusion\n",
    "\n",
    "DOF=no. of rows- no. of columns=101-1=100\n",
    "\n",
    "Using above table for one tail test and seeing the corresponding DOF(100) and significance level(0.05) cell the value of t=1.660.\n",
    "\n",
    "The calculated value of t=2.95 is greater than the table value t=1.660 in a right tail test so assumed hypothesis is false."
   ]
  },
  {
   "cell_type": "markdown",
   "metadata": {},
   "source": [
    "### Statement 7: Most of the people leaving the company have monthly income less than 45000"
   ]
  },
  {
   "cell_type": "code",
   "execution_count": 9,
   "metadata": {},
   "outputs": [
    {
     "name": "stdout",
     "output_type": "stream",
     "text": [
      "sigma= 47588.51290339336\n",
      "Population mean= 45000\n",
      "Sample mean= 66174.0594059406\n",
      "t= 4.47159724986393\n"
     ]
    }
   ],
   "source": [
    "pop_mean6=45000 #population mean\n",
    "sample7=dataset1.sample(n) #101 records are loaded in sample 7 with Attriton as YES\n",
    "sigma6=sample7[\"MonthlyIncome\"].std() #sample standard deviation\n",
    "sam_mean6=sample7[\"MonthlyIncome\"].mean() #sample mean\n",
    "t_stat6=(sam_mean6-pop_mean6)/(sigma6/(n**0.5)) #t(calculated)\n",
    "print(\"sigma=\",sigma6)\n",
    "print(\"Population mean=\",pop_mean6)\n",
    "print(\"Sample mean=\",sam_mean6)\n",
    "print(\"t=\",t_stat6)"
   ]
  },
  {
   "cell_type": "markdown",
   "metadata": {},
   "source": [
    "##### Conclusion\n",
    "\n",
    "DOF=no. of rows- no. of columns=101-1=100\n",
    "\n",
    "Using above table for one tail test and seeing the corresponding DOF(100) and significance level(0.05) cell the value of t=1.660.\n",
    "\n",
    "The calculated value of t=2.78 is greater than the table value t=1.660 in a right tail test so assumed hypothesis is false."
   ]
  },
  {
   "cell_type": "markdown",
   "metadata": {},
   "source": [
    "#### Statement 8: Most of the people leaving the company lives more than 9 KM of distance"
   ]
  },
  {
   "cell_type": "code",
   "execution_count": 10,
   "metadata": {},
   "outputs": [
    {
     "name": "stdout",
     "output_type": "stream",
     "text": [
      "sigma= 7.273633381897757\n",
      "Population mean= 9\n",
      "Sample mean= 8.455445544554456\n",
      "t= -0.7524031331817082\n"
     ]
    }
   ],
   "source": [
    "pop_mean7=9 #population mean\n",
    "sample8=dataset1.sample(n) #101 records are loaded in sample 8 with Attriton as YES\n",
    "sigma7=sample7[\"DistanceFromHome\"].std() #sample standard deviation\n",
    "sam_mean7=sample8[\"DistanceFromHome\"].mean() #sample mean\n",
    "t_stat7=(sam_mean7-pop_mean7)/(sigma7/(n**0.5)) #t(calculated)\n",
    "print(\"sigma=\",sigma7)\n",
    "print(\"Population mean=\",pop_mean7)\n",
    "print(\"Sample mean=\",sam_mean7)\n",
    "print(\"t=\",t_stat7)\n"
   ]
  },
  {
   "cell_type": "markdown",
   "metadata": {},
   "source": [
    "##### Conclusion\n",
    "\n",
    "DOF=no. of rows- no. of columns=101-1=100\n",
    "\n",
    "Using above table for one tail test and seeing the corresponding DOF(100) and significance level(0.05) cell the value of t=1.660.\n",
    "\n",
    "The calculated value of t=-1.15 is greater than the table value t=-1.660 in a left tail test so assumed hypothesis is true."
   ]
  },
  {
   "cell_type": "markdown",
   "metadata": {},
   "source": [
    "#### Statement 9: Most of the people staying in the company are working in the company for more than 35 years"
   ]
  },
  {
   "cell_type": "code",
   "execution_count": 11,
   "metadata": {},
   "outputs": [
    {
     "name": "stdout",
     "output_type": "stream",
     "text": [
      "sigma= 6.569732577404794\n",
      "Population mean= 35\n",
      "Sample mean= 7.8316831683168315\n",
      "t= -41.56001812504183\n"
     ]
    }
   ],
   "source": [
    "pop_mean8=35 #population mean\n",
    "sample9=dataset2.sample(n)#101 records are loaded in sample 9 with Attriton as NO\n",
    "sigma8=sample9[\"YearsAtCompany\"].std() #sample standard deviation\n",
    "sam_mean8=sample9[\"YearsAtCompany\"].mean() #sample mean\n",
    "t_stat8=(sam_mean8-pop_mean8)/(sigma8/(n**0.5)) #t(calculated)\n",
    "print(\"sigma=\",sigma8)\n",
    "print(\"Population mean=\",pop_mean8)\n",
    "print(\"Sample mean=\",sam_mean8)\n",
    "print(\"t=\",t_stat8)"
   ]
  },
  {
   "cell_type": "markdown",
   "metadata": {},
   "source": [
    "##### Conclusion\n",
    "\n",
    "DOF=no. of rows- no. of columns=101-1=100\n",
    "\n",
    "Using above table for one tail test and seeing the corresponding DOF(100) and significance level(0.05) cell the value of t=1.660.\n",
    "\n",
    "The calculated value of t=-34.62 is less than the table value t=-1.660 in a left tail test so assumed hypothesis is false."
   ]
  },
  {
   "cell_type": "markdown",
   "metadata": {},
   "source": [
    "#### Statement 10: Most of the people staying in the company have not been promoted from 2 years"
   ]
  },
  {
   "cell_type": "code",
   "execution_count": 12,
   "metadata": {},
   "outputs": [
    {
     "name": "stdout",
     "output_type": "stream",
     "text": [
      "sigma= 3.2338873746949703\n",
      "Population mean= 2\n",
      "Sample mean= 2.207920792079208\n",
      "t= 0.6461505480344918\n"
     ]
    }
   ],
   "source": [
    "sigma9=dataset2[\"YearsSinceLastPromotion\"].std() #population standard deviation\n",
    "pop_mean9=2 #population mean\n",
    "sample10=dataset2.sample(n)#101 records are loaded in sample 10 with Attriton as NO\n",
    "sam_mean9=sample10[\"YearsSinceLastPromotion\"].mean() #sample mean\n",
    "t_stat9=(sam_mean9-pop_mean9)/(sigma9/(n**0.5))# t(calculated)\n",
    "print(\"sigma=\",sigma9)\n",
    "print(\"Population mean=\",pop_mean9)\n",
    "print(\"Sample mean=\",sam_mean9)\n",
    "print(\"t=\",t_stat9)"
   ]
  },
  {
   "cell_type": "markdown",
   "metadata": {},
   "source": [
    "##### Conclusion\n",
    "\n",
    "DOF=no. of rows- no. of columns=101-1=100\n",
    "\n",
    "Using above table for two tail test and seeing the corresponding DOF(100) and significance level(0.05) cell the value of t=1.984.\n",
    "\n",
    "The calculated value of t=0.584 lies inside the range -1.984 to +1.984 so assumed hypothesis is true."
   ]
  },
  {
   "cell_type": "code",
   "execution_count": null,
   "metadata": {},
   "outputs": [],
   "source": []
  }
 ],
 "metadata": {
  "kernelspec": {
   "display_name": "Python 3",
   "language": "python",
   "name": "python3"
  },
  "language_info": {
   "codemirror_mode": {
    "name": "ipython",
    "version": 3
   },
   "file_extension": ".py",
   "mimetype": "text/x-python",
   "name": "python",
   "nbconvert_exporter": "python",
   "pygments_lexer": "ipython3",
   "version": "3.7.6"
  }
 },
 "nbformat": 4,
 "nbformat_minor": 4
}
