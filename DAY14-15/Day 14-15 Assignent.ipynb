{
 "cells": [
  {
   "cell_type": "markdown",
   "metadata": {},
   "source": [
    "# 1. Create a 3x3x3 array with random values "
   ]
  },
  {
   "cell_type": "code",
   "execution_count": 1,
   "metadata": {},
   "outputs": [
    {
     "name": "stdout",
     "output_type": "stream",
     "text": [
      "The Array is-\n",
      "[[[0. 0. 0.]\n",
      "  [0. 0. 0.]\n",
      "  [0. 0. 0.]]\n",
      "\n",
      " [[0. 0. 0.]\n",
      "  [0. 0. 0.]\n",
      "  [0. 0. 0.]]\n",
      "\n",
      " [[0. 0. 0.]\n",
      "  [0. 0. 0.]\n",
      "  [0. 0. 0.]]]\n",
      "The Shape of Array is-\n",
      "(3, 3, 3)\n"
     ]
    }
   ],
   "source": [
    "import numpy as np\n",
    "a=np.empty((3,3,3))\n",
    "print(\"The Array is-\")\n",
    "print(a)\n",
    "print(\"The Shape of Array is-\")\n",
    "print(a.shape)"
   ]
  },
  {
   "cell_type": "markdown",
   "metadata": {},
   "source": [
    "# 2.Create a 5x5 matrix with values 1,2,3,4 just below the diagonal"
   ]
  },
  {
   "cell_type": "code",
   "execution_count": 2,
   "metadata": {},
   "outputs": [
    {
     "name": "stdout",
     "output_type": "stream",
     "text": [
      "Initial Matrix-\n",
      "[[0. 0. 0. 0. 0.]\n",
      " [0. 0. 0. 0. 0.]\n",
      " [0. 0. 0. 0. 0.]\n",
      " [0. 0. 0. 0. 0.]\n",
      " [0. 0. 0. 0. 0.]]\n",
      "Final Matrix-\n",
      "[[0. 0. 0. 0. 0.]\n",
      " [1. 0. 0. 0. 0.]\n",
      " [0. 2. 0. 0. 0.]\n",
      " [0. 0. 3. 0. 0.]\n",
      " [0. 0. 0. 4. 0.]]\n"
     ]
    }
   ],
   "source": [
    "b=np.zeros((5,5))#creates a zeros matrix of specified order\n",
    "print(\"Initial Matrix-\")\n",
    "print(b)\n",
    "for i in range(len(b)):\n",
    "    for j in range(len(b)):\n",
    "        if(i==j+1):\n",
    "            b[i][j]=i\n",
    "print(\"Final Matrix-\")\n",
    "print(b)    "
   ]
  },
  {
   "cell_type": "markdown",
   "metadata": {},
   "source": [
    "# 3.Create a 8x8 matrix and fill it with a checkerboard pattern"
   ]
  },
  {
   "cell_type": "markdown",
   "metadata": {},
   "source": [
    "Checkerboard pattern consist of black and white color alternatively in 8X8 grid, here BLACK is represented as 0 and WHITE is represented as 255."
   ]
  },
  {
   "cell_type": "code",
   "execution_count": 3,
   "metadata": {},
   "outputs": [
    {
     "name": "stdout",
     "output_type": "stream",
     "text": [
      "Initial Matrix-\n",
      "[[0. 0. 0. 0. 0. 0. 0. 0.]\n",
      " [0. 0. 0. 0. 0. 0. 0. 0.]\n",
      " [0. 0. 0. 0. 0. 0. 0. 0.]\n",
      " [0. 0. 0. 0. 0. 0. 0. 0.]\n",
      " [0. 0. 0. 0. 0. 0. 0. 0.]\n",
      " [0. 0. 0. 0. 0. 0. 0. 0.]\n",
      " [0. 0. 0. 0. 0. 0. 0. 0.]\n",
      " [0. 0. 0. 0. 0. 0. 0. 0.]]\n",
      "Final Matrix-\n",
      "[[  0. 255.   0. 255.   0. 255.   0. 255.]\n",
      " [  0. 255.   0. 255.   0. 255.   0. 255.]\n",
      " [  0. 255.   0. 255.   0. 255.   0. 255.]\n",
      " [  0. 255.   0. 255.   0. 255.   0. 255.]\n",
      " [  0. 255.   0. 255.   0. 255.   0. 255.]\n",
      " [  0. 255.   0. 255.   0. 255.   0. 255.]\n",
      " [  0. 255.   0. 255.   0. 255.   0. 255.]\n",
      " [  0. 255.   0. 255.   0. 255.   0. 255.]]\n"
     ]
    }
   ],
   "source": [
    "c=np.zeros((8,8))#creates a zeros matrix of specified order \n",
    "print(\"Initial Matrix-\")\n",
    "print(c)\n",
    "for i in range(len(c)):\n",
    "    for j in range(len(c)):\n",
    "        if(j%2!=0):\n",
    "            c[i][j]=255\n",
    "print(\"Final Matrix-\")\n",
    "print(c) "
   ]
  },
  {
   "cell_type": "markdown",
   "metadata": {},
   "source": [
    "# 4. Normalize a 5x5 random matrix"
   ]
  },
  {
   "cell_type": "code",
   "execution_count": 4,
   "metadata": {},
   "outputs": [
    {
     "name": "stdout",
     "output_type": "stream",
     "text": [
      "The random matrix is-\n",
      "[[ 0.32634637 -1.98620691 -0.96714063  0.75524581 -0.08253727]\n",
      " [-1.21912115  0.67684441 -0.08071143 -1.55029721 -0.82060556]\n",
      " [-0.63970837 -0.54989392  0.08288539 -1.02202213 -0.25706886]\n",
      " [ 0.82890579 -0.65246618  0.44546236  1.21519375 -0.02802947]\n",
      " [-0.92810097  0.94890165  0.67294595  0.12406001  0.48246526]]\n",
      "The norm value of random matrix is-\n",
      "4.203856321705682\n",
      "The normalized random mattrix is-\n",
      "[[ 0.07763024 -0.4724726  -0.23006034  0.17965548 -0.0196337 ]\n",
      " [-0.29000067  0.1610056  -0.01919938 -0.36877978 -0.19520305]\n",
      " [-0.1521718  -0.13080702  0.01971651 -0.24311538 -0.06115072]\n",
      " [ 0.19717748 -0.15520658  0.10596517  0.28906643 -0.00666756]\n",
      " [-0.22077371  0.22572171  0.16007825  0.029511    0.11476731]]\n"
     ]
    }
   ],
   "source": [
    "d=np.random.randn(5,5)#creates a matrix of specified filled with random numbers\n",
    "print(\"The random matrix is-\")\n",
    "print(d)\n",
    "normal=np.linalg.norm(d)#computes the norm of the given matrix \n",
    "print(\"The norm value of random matrix is-\")\n",
    "print(normal)\n",
    "e=np.divide(d,normal)#computes the normalized matrix\n",
    "print(\"The normalized random mattrix is-\")\n",
    "print(e)"
   ]
  },
  {
   "cell_type": "markdown",
   "metadata": {},
   "source": [
    "# 5.  How to find common values between two arrays?"
   ]
  },
  {
   "cell_type": "code",
   "execution_count": 5,
   "metadata": {},
   "outputs": [
    {
     "name": "stdout",
     "output_type": "stream",
     "text": [
      "The 1st array is-\n",
      "[1 2 3 4 5]\n",
      "The 2nd array is-\n",
      "[ 2  4  6  8 10]\n",
      "Common values between two arrays are-\n",
      "[2 4]\n"
     ]
    }
   ],
   "source": [
    "f=np.array([1,2,3,4,5])\n",
    "print(\"The 1st array is-\")\n",
    "print(f)\n",
    "g=np.array([2,4,6,8,10])\n",
    "print(\"The 2nd array is-\")\n",
    "print(g)\n",
    "com_values=np.intersect1d(f,g)\n",
    "print(\"Common values between two arrays are-\")\n",
    "print(com_values)"
   ]
  },
  {
   "cell_type": "markdown",
   "metadata": {},
   "source": [
    "# 6.How to get the dates of yesterday, today and tomorrow?"
   ]
  },
  {
   "cell_type": "code",
   "execution_count": 4,
   "metadata": {},
   "outputs": [
    {
     "name": "stdout",
     "output_type": "stream",
     "text": [
      "Yestraday's Date:  2020-07-26\n",
      "Today's Date:  2020-07-27\n",
      "Tomorrow's Date:  2020-07-28\n"
     ]
    }
   ],
   "source": [
    "yesterday =np.datetime64('today', 'D') - np.timedelta64(1, 'D')\n",
    "print(\"Yestraday's Date: \",yesterday)\n",
    "today= np.datetime64('today', 'D')\n",
    "print(\"Today's Date: \",today)\n",
    "tomorrow= np.datetime64('today', 'D') + np.timedelta64(1, 'D')\n",
    "print(\"Tomorrow's Date: \",tomorrow)"
   ]
  },
  {
   "cell_type": "markdown",
   "metadata": {},
   "source": [
    "# 7. Consider two random array A and B, check if they are equal"
   ]
  },
  {
   "cell_type": "code",
   "execution_count": 5,
   "metadata": {},
   "outputs": [
    {
     "name": "stdout",
     "output_type": "stream",
     "text": [
      "Output is True if two arrays are equal\n",
      "Output is False if two arrays are equal\n",
      "Output: True\n"
     ]
    }
   ],
   "source": [
    "h=np.array([1,2,3])\n",
    "i=np.array([1,2,3])\n",
    "comparison = h == i\n",
    "equal_arrays = comparison.all()#compare two arrays and returns boolean expression\n",
    "print(\"Output is True if two arrays are equal\")\n",
    "print(\"Output is False if two arrays are equal\")\n",
    "print(\"Output:\",equal_arrays)"
   ]
  },
  {
   "cell_type": "code",
   "execution_count": 8,
   "metadata": {},
   "outputs": [
    {
     "name": "stdout",
     "output_type": "stream",
     "text": [
      "Output is True if two arrays are equal\n",
      "Output is False if two arrays are equal\n",
      "Output: False\n"
     ]
    }
   ],
   "source": [
    "h=np.array([1,2,3])\n",
    "i=np.array([4,5,6])\n",
    "comparison = h == i\n",
    "equal_arrays = comparison.all()\n",
    "print(\"Output is True if two arrays are equal\")\n",
    "print(\"Output is False if two arrays are equal\")\n",
    "print(\"Output:\",equal_arrays)"
   ]
  },
  {
   "cell_type": "markdown",
   "metadata": {},
   "source": [
    "# 8.Create random vector of size 10 and replace the maximum value by 0 "
   ]
  },
  {
   "cell_type": "code",
   "execution_count": 6,
   "metadata": {},
   "outputs": [
    {
     "name": "stdout",
     "output_type": "stream",
     "text": [
      "The random vector is-\n",
      "[[-0.19092239]\n",
      " [-0.97642269]\n",
      " [-1.17059212]\n",
      " [-2.31871184]\n",
      " [ 0.68903893]\n",
      " [-0.80808394]\n",
      " [ 0.06321521]\n",
      " [-1.07484433]\n",
      " [ 0.36242516]\n",
      " [ 1.4643328 ]]\n",
      "The maximum value in the vector is-\n",
      "1.4643328005076437\n",
      "The new vector is-\n",
      "[[-0.19092239]\n",
      " [-0.97642269]\n",
      " [-1.17059212]\n",
      " [-2.31871184]\n",
      " [ 0.68903893]\n",
      " [-0.80808394]\n",
      " [ 0.06321521]\n",
      " [-1.07484433]\n",
      " [ 0.36242516]\n",
      " [ 0.        ]]\n"
     ]
    }
   ],
   "source": [
    "vec=np.random.randn(10,1)#creates a random vector of given order\n",
    "print(\"The random vector is-\")\n",
    "print(vec)\n",
    "max_val=np.amax(vec)#computes the maximum value from a given vector\n",
    "print(\"The maximum value in the vector is-\")\n",
    "print(max_val)\n",
    "loc=np.where(vec==max_val)#find the index of the maximum value\n",
    "vec[loc]=0\n",
    "print(\"The new vector is-\")\n",
    "print(vec)"
   ]
  },
  {
   "cell_type": "markdown",
   "metadata": {},
   "source": [
    "# 9. How to print all the values of an array?"
   ]
  },
  {
   "cell_type": "code",
   "execution_count": 7,
   "metadata": {},
   "outputs": [
    {
     "name": "stdout",
     "output_type": "stream",
     "text": [
      "The array is:\n",
      "[0.12482649 0.60368961 1.14699166]\n",
      "The element at index( 0 ) is: 0.12482648961120893\n",
      "The element at index( 1 ) is: 0.6036896105623559\n",
      "The element at index( 2 ) is: 1.1469916609935855\n"
     ]
    }
   ],
   "source": [
    "l=np.random.randn(3,)#creates a random array of given order\n",
    "print(\"The array is:\")\n",
    "print(l)\n",
    "for i in range(len(l)):\n",
    "    print(\"The element at index(\",i,\") is:\",l[i])"
   ]
  },
  {
   "cell_type": "code",
   "execution_count": 22,
   "metadata": {},
   "outputs": [
    {
     "name": "stdout",
     "output_type": "stream",
     "text": [
      "The array is:\n",
      "[[-1.65608512 -1.29934123 -0.85449239]\n",
      " [ 0.42846595  0.36934972 -1.60745369]\n",
      " [-0.57658046 -1.14348038 -2.13782552]]\n",
      "The element at index( 0 , 0 )is: -1.6560851161691763\n",
      "The element at index( 0 , 1 )is: -1.2993412343383661\n",
      "The element at index( 0 , 2 )is: -0.8544923894421872\n",
      "The element at index( 1 , 0 )is: 0.4284659498060725\n",
      "The element at index( 1 , 1 )is: 0.36934972478169953\n",
      "The element at index( 1 , 2 )is: -1.6074536948681089\n",
      "The element at index( 2 , 0 )is: -0.5765804584822585\n",
      "The element at index( 2 , 1 )is: -1.143480381396333\n",
      "The element at index( 2 , 2 )is: -2.137825517177939\n"
     ]
    }
   ],
   "source": [
    "l=np.random.randn(3,3)#creates a random array of given order\n",
    "print(\"The array is:\")\n",
    "print(l)\n",
    "for i in range(len(l)):\n",
    "    for j in range(len(l)):\n",
    "        print(\"The element at index(\",i,\",\",j,\")is:\",l[i][j])"
   ]
  },
  {
   "cell_type": "markdown",
   "metadata": {},
   "source": [
    "# 10.Subtract the mean of each row of a matrix"
   ]
  },
  {
   "cell_type": "code",
   "execution_count": 12,
   "metadata": {},
   "outputs": [
    {
     "name": "stdout",
     "output_type": "stream",
     "text": [
      "The matrix is-\n",
      "[[-0.06546481  1.05471028 -1.16529538]\n",
      " [ 1.8850171  -1.00572427  0.20200482]\n",
      " [-0.23470266 -0.95281717 -0.81627792]]\n",
      "The mean value of each row is-\n",
      "[-0.0586833   0.36043255 -0.66793258]\n",
      "The matrix after the mean is subtracted-\n",
      "[[-0.00678151  0.69427773 -0.4973628 ]\n",
      " [ 1.9437004  -1.36615682  0.86993741]\n",
      " [-0.17601936 -1.31324972 -0.14834534]]\n"
     ]
    }
   ],
   "source": [
    "arr=np.random.randn(3,3)#creates a random matrix of given order\n",
    "print(\"The matrix is-\")\n",
    "print(arr)\n",
    "print(\"The mean value of each row is-\")\n",
    "arr1=np.mean(arr,axis=1)#computes the mean of each row\n",
    "print(arr1)\n",
    "arr2=arr-arr1\n",
    "print(\"The matrix after the mean is subtracted-\")\n",
    "print(arr2)"
   ]
  },
  {
   "cell_type": "markdown",
   "metadata": {},
   "source": [
    "# 11.Consider a given vector, how to add 1 to each element indexed by a second vector (be careful with repeated indices)? "
   ]
  },
  {
   "cell_type": "code",
   "execution_count": 8,
   "metadata": {},
   "outputs": [
    {
     "name": "stdout",
     "output_type": "stream",
     "text": [
      "The original vector is:\n",
      "[[ 0.95609892]\n",
      " [ 1.24800646]\n",
      " [-0.13465815]\n",
      " [ 0.51045258]\n",
      " [ 1.36462124]\n",
      " [ 0.8276065 ]\n",
      " [-0.1097297 ]\n",
      " [ 0.56927747]\n",
      " [-0.94317713]\n",
      " [-1.0542363 ]]\n",
      "The Index values obtained are:\n",
      "[4 1 1 6]\n",
      "The final unique index values are:\n",
      "[1 4 6]\n",
      "Final vector after adding 1 to corresponding elements at the specified indices:\n",
      "[[ 0.95609892]\n",
      " [ 2.24800646]\n",
      " [-0.13465815]\n",
      " [ 0.51045258]\n",
      " [ 2.36462124]\n",
      " [ 0.8276065 ]\n",
      " [ 0.8902703 ]\n",
      " [ 0.56927747]\n",
      " [-0.94317713]\n",
      " [-1.0542363 ]]\n"
     ]
    }
   ],
   "source": [
    "import numpy as np \n",
    "Z = np.random.randn(10,1)#creates a random vector of given order\n",
    "print(\"The original vector is:\")\n",
    "print(Z)\n",
    "I=np.random.randint(0,len(Z),4)#generates 4 random integers in a specified range,used as index values\n",
    "print(\"The Index values obtained are:\")\n",
    "print(I)\n",
    "J=np.unique(I,axis=0)#removes the duplicate values\n",
    "print(\"The final unique index values are:\")\n",
    "print(J)\n",
    "print(\"Final vector after adding 1 to corresponding elements at the specified indices:\")\n",
    "np.add.at(Z,J,1)#Adds 1 to the elements in given vector (Z) at the specified index values(I)\n",
    "print(Z)"
   ]
  },
  {
   "cell_type": "markdown",
   "metadata": {},
   "source": [
    "# 12.How to get the diagonal of a dot product?"
   ]
  },
  {
   "cell_type": "code",
   "execution_count": 15,
   "metadata": {},
   "outputs": [
    {
     "name": "stdout",
     "output_type": "stream",
     "text": [
      "The first 3X3 array is- \n",
      "[[-0.44017459  1.04916042 -0.07217374]\n",
      " [-0.87778766 -1.13790972  2.14978188]\n",
      " [ 0.43349028 -0.90422856  1.4632639 ]]\n",
      "The second 3X3 array is- \n",
      "[[ 2.87612238  1.45200194  1.19952257]\n",
      " [ 0.8621398   0.08849527 -2.19494928]\n",
      " [-0.01380654 -1.84904567  0.27609321]]\n",
      "The corresponding dot product is- \n",
      "[[-0.36047657 -0.41283609 -2.85077994]\n",
      " [-3.53534304 -5.3502939   2.03826818]\n",
      " [ 0.44699703 -2.15623301  2.90871442]]\n",
      "The corresponding diagnol elements are- \n",
      "[-0.36047657 -5.3502939   2.90871442]\n"
     ]
    }
   ],
   "source": [
    "u=np.random.randn(3,3)#creates a random matrix of given order\n",
    "print(\"The first 3X3 array is- \")\n",
    "print(u)\n",
    "v=np.random.randn(3,3)\n",
    "print(\"The second 3X3 array is- \")\n",
    "print(v)\n",
    "w=np.dot(u,v)#computes the dot product of two given matrices\n",
    "print(\"The corresponding dot product is- \")\n",
    "print(w)\n",
    "z=np.diag(w)#choose the diagnol elements of given matrix\n",
    "print(\"The corresponding diagnol elements are- \")\n",
    "print(z)"
   ]
  },
  {
   "cell_type": "markdown",
   "metadata": {},
   "source": [
    "# 13.How to find the most frequent value in an array?"
   ]
  },
  {
   "cell_type": "code",
   "execution_count": 16,
   "metadata": {},
   "outputs": [
    {
     "data": {
      "text/plain": [
       "6"
      ]
     },
     "execution_count": 16,
     "metadata": {},
     "output_type": "execute_result"
    }
   ],
   "source": [
    "k=np.array([1,2,3,3,5,3,6,6,7,6,6,8])\n",
    "np.argmax(np.bincount(k))#finds the value that is repeated maximum number of times in a given array"
   ]
  },
  {
   "cell_type": "markdown",
   "metadata": {},
   "source": [
    "# 14.How to get the n largest values of an array"
   ]
  },
  {
   "cell_type": "code",
   "execution_count": 17,
   "metadata": {},
   "outputs": [
    {
     "name": "stdout",
     "output_type": "stream",
     "text": [
      "Enter the value of n:4\n",
      "The 4 largest value of the array are:\n",
      "[998 999 997 996]\n"
     ]
    }
   ],
   "source": [
    "M=np.arange(1000)#generates a sequential array with numbers 0 to 999\n",
    "np.random.shuffle(M)\n",
    "n=int(input(\"Enter the value of n:\"))\n",
    "print(\"The\",n,\"largest value of the array are:\")\n",
    "print (M[np.argpartition(-M,n)[:n]])#prints the n largest values in the specified array"
   ]
  },
  {
   "cell_type": "markdown",
   "metadata": {},
   "source": [
    "# 15.How to create a record array from a regular array?"
   ]
  },
  {
   "cell_type": "code",
   "execution_count": 9,
   "metadata": {},
   "outputs": [
    {
     "name": "stdout",
     "output_type": "stream",
     "text": [
      "Original array:\n",
      "[['Pranjul' '88.5' '90']\n",
      " ['Manjeet' '87' '99']\n",
      " ['Abdul' '85.5' '91']]\n",
      "\n",
      "Record array:\n",
      "[(b'Pranjul', 88.5, 90) (b'Manjeet', 87. , 99) (b'Abdul', 85.5, 91)]\n"
     ]
    },
    {
     "data": {
      "text/plain": [
       "numpy.recarray"
      ]
     },
     "execution_count": 9,
     "metadata": {},
     "output_type": "execute_result"
    }
   ],
   "source": [
    "reg_arr = np.array([[\"Pranjul\", 88.5, 90],[\"Manjeet\", 87, 99],[\"Abdul\", 85.5, 91]])#generates a 2D array\n",
    "print(\"Original array:\")\n",
    "print(reg_arr)\n",
    "print(\"\\nRecord array:\")\n",
    "rec_arr = np.core.records.fromarrays(reg_arr.T,names='col1, col2, col3',formats = 'S80, f8, i8')# generates a reccord array\n",
    "print(rec_arr)\n",
    "type(rec_arr)"
   ]
  },
  {
   "cell_type": "code",
   "execution_count": null,
   "metadata": {},
   "outputs": [],
   "source": []
  }
 ],
 "metadata": {
  "kernelspec": {
   "display_name": "Python 3",
   "language": "python",
   "name": "python3"
  },
  "language_info": {
   "codemirror_mode": {
    "name": "ipython",
    "version": 3
   },
   "file_extension": ".py",
   "mimetype": "text/x-python",
   "name": "python",
   "nbconvert_exporter": "python",
   "pygments_lexer": "ipython3",
   "version": "3.7.6"
  },
  "toc": {
   "base_numbering": 1,
   "nav_menu": {},
   "number_sections": true,
   "sideBar": true,
   "skip_h1_title": false,
   "title_cell": "Table of Contents",
   "title_sidebar": "Contents",
   "toc_cell": false,
   "toc_position": {},
   "toc_section_display": true,
   "toc_window_display": false
  }
 },
 "nbformat": 4,
 "nbformat_minor": 2
}
