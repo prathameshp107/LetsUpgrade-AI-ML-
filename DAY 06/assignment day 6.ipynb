{
 "cells": [
  {
   "cell_type": "markdown",
   "metadata": {},
   "source": [
    "### Question 1: Assuming that we have some email addresses in the \"username@companyname.com\" format, please write program to print the company name of a given email address. Both user names and company names are composed of letters only."
   ]
  },
  {
   "cell_type": "code",
   "execution_count": 1,
   "metadata": {},
   "outputs": [
    {
     "name": "stdout",
     "output_type": "stream",
     "text": [
      "enter your emailpratham@gmail.com\n",
      "gmail\n"
     ]
    }
   ],
   "source": [
    "email=input(\"enter your email\")\n",
    "i=email.find(\"@\")\n",
    "j=email.find(\".\",i)\n",
    "print(email[i+1:j])\n"
   ]
  },
  {
   "cell_type": "markdown",
   "metadata": {},
   "source": [
    "### Question 2: Write a program that accepts a comma-separated sequence of words as input and prints the words in a comma separated sequence after sorting them alphabetically."
   ]
  },
  {
   "cell_type": "code",
   "execution_count": 2,
   "metadata": {},
   "outputs": [
    {
     "name": "stdout",
     "output_type": "stream",
     "text": [
      "Input comma separated sequence of words : without,hello,bag,world\n",
      "bag,hello,without,world\n"
     ]
    }
   ],
   "source": [
    "items = input(\"Input comma separated sequence of words : \")\n",
    "words = [word for word in items.split(\",\")]\n",
    "print(\",\".join(sorted(list(words))))\n"
   ]
  },
  {
   "cell_type": "markdown",
   "metadata": {},
   "source": [
    "### Question 3: Create your own Jupyter Notebook for Sets. Reference link: https://www.w3schools.com/python/python_sets.asp"
   ]
  },
  {
   "cell_type": "code",
   "execution_count": 6,
   "metadata": {},
   "outputs": [
    {
     "name": "stdout",
     "output_type": "stream",
     "text": [
      "Duplicates are not allowed\n",
      " {1, 2, 3, 5, 6, 7}\n",
      "Union will return a new set\n",
      " {1, 2, 3, 'def', 5, 6, 7, 'ghi', 'abc'}\n",
      "Update will return a given set\n",
      " {1, 2, 3, 'def', 5, 6, 7, 'ghi', 'abc'}\n",
      "pop will return deleted element from set\n",
      " {2, 3, 'def', 5, 6, 7, 'ghi', 'abc'}\n",
      "Remove function will delete the element from set if element does not exists it will error whereas discard will not throw error {1, 2, 3, 'def', 5, 6, 7, 'ghi'} {2, 3, 'def', 5, 6, 7, 'ghi', 'abc'}\n",
      "Add function will append values  {2, 3, 'def', 5, 6, 7, 'ghi', 'abc'}\n"
     ]
    }
   ],
   "source": [
    "a = {1,2,2,3,5,6,7,7}\n",
    "print(\"Duplicates are not allowed\\n\",a)\n",
    "b = {\"abc\",\"def\",\"ghi\"}\n",
    "c=a.union(b)\n",
    "print(\"Union will return a new set\\n\",c)\n",
    "a.update(b)\n",
    "print(\"Update will return a given set\\n\",a)\n",
    "a.pop()\n",
    "print(\"pop will return deleted element from set\\n\",a)\n",
    "c.remove(\"abc\")\n",
    "c.discard(\"abc\")\n",
    "print(\"Remove function will delete the element from set if element does not exists it will error whereas discard will not throw error\",c,a)\n",
    "a.add(\"abc\")\n",
    "print(\"Add function will append values \",a)\n"
   ]
  },
  {
   "cell_type": "markdown",
   "metadata": {},
   "source": [
    "### Question 4: Given a list of n-1 numbers ranging from 1 to n, your task is to find the missing number. There are no duplicates."
   ]
  },
  {
   "cell_type": "code",
   "execution_count": 9,
   "metadata": {},
   "outputs": [
    {
     "name": "stdout",
     "output_type": "stream",
     "text": [
      "Enter range6\n",
      "Enter values in between 1 and  6\n",
      "1\n",
      "2\n",
      "5\n",
      "3\n",
      "6\n",
      "missing value is: 4\n"
     ]
    }
   ],
   "source": [
    "import functools\n",
    "from functools import reduce\n",
    "n =int(input(\"Enter range\"))\n",
    "l=[]\n",
    "print(\"Enter values in between 1 and \", n)\n",
    "for i in range(1,n):\n",
    "    if(i<=n):\n",
    "        a=int(input())\n",
    "        l.append(a)\n",
    "print(\"missing value is:\",int(n*(n+1)/2)-reduce(lambda a,b:a+b,l))"
   ]
  },
  {
   "cell_type": "markdown",
   "metadata": {},
   "source": [
    "### Question 5: With a given list L, write a program to print this list L after removing all duplicate values with original order reserved\n"
   ]
  },
  {
   "cell_type": "code",
   "execution_count": 10,
   "metadata": {},
   "outputs": [
    {
     "name": "stdout",
     "output_type": "stream",
     "text": [
      "After removing all duplicate values with original order reserved\n",
      " [12, 125, 88, 55, 24, 78, 66]\n"
     ]
    }
   ],
   "source": [
    "l = [12,125,88,12,55,24,88,78,66,55]\n",
    "D=[]\n",
    "for i in l:\n",
    "    if i not in D:\n",
    "        D.append(i)\n",
    "print(\"After removing all duplicate values with original order reserved\\n\",D)"
   ]
  },
  {
   "cell_type": "code",
   "execution_count": null,
   "metadata": {},
   "outputs": [],
   "source": []
  }
 ],
 "metadata": {
  "kernelspec": {
   "display_name": "Python 3",
   "language": "python",
   "name": "python3"
  },
  "language_info": {
   "codemirror_mode": {
    "name": "ipython",
    "version": 3
   },
   "file_extension": ".py",
   "mimetype": "text/x-python",
   "name": "python",
   "nbconvert_exporter": "python",
   "pygments_lexer": "ipython3",
   "version": "3.7.6"
  }
 },
 "nbformat": 4,
 "nbformat_minor": 4
}
